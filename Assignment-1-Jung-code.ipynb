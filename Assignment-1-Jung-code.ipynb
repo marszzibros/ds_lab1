{
 "cells": [
  {
   "cell_type": "markdown",
   "metadata": {},
   "source": [
    "### Assignment 1\n",
    "#### Jay Hwasung Jung\n",
    "#### Data Science I\n"
   ]
  },
  {
   "cell_type": "markdown",
   "metadata": {},
   "source": [
    "----------------------------\n",
    "##### import modules\n"
   ]
  },
  {
   "cell_type": "code",
   "execution_count": 1,
   "metadata": {},
   "outputs": [
    {
     "name": "stderr",
     "output_type": "stream",
     "text": [
      "/tmp/ipykernel_181450/1322585114.py:1: DeprecationWarning: \n",
      "Pyarrow will become a required dependency of pandas in the next major release of pandas (pandas 3.0),\n",
      "(to allow more performant data types, such as the Arrow string type, and better interoperability with other libraries)\n",
      "but was not found to be installed on your system.\n",
      "If this would cause problems for you,\n",
      "please provide us feedback at https://github.com/pandas-dev/pandas/issues/54466\n",
      "        \n",
      "  import pandas as pd\n"
     ]
    }
   ],
   "source": [
    "import pandas as pd\n",
    "import numpy as np\n",
    "from pathlib import Path"
   ]
  },
  {
   "cell_type": "markdown",
   "metadata": {},
   "source": [
    "##### read CSV files into pandas data tables (dataframe)"
   ]
  },
  {
   "cell_type": "code",
   "execution_count": 2,
   "metadata": {},
   "outputs": [],
   "source": [
    "data_file_path = Path.cwd() / 'data' \n",
    "assert data_file_path.exists() ## confirms if this folder exists"
   ]
  },
  {
   "cell_type": "code",
   "execution_count": 3,
   "metadata": {},
   "outputs": [],
   "source": [
    "df_businesses = pd.read_csv(data_file_path / 'businesses.csv')\n",
    "df_inspections = pd.read_csv(data_file_path / 'inspections.csv')\n",
    "df_violations = pd.read_csv(data_file_path / 'violations.csv')\n",
    "df_legend = pd.read_csv(data_file_path / 'legend.csv')"
   ]
  },
  {
   "cell_type": "code",
   "execution_count": 4,
   "metadata": {},
   "outputs": [
    {
     "name": "stdout",
     "output_type": "stream",
     "text": [
      "businesses.csv has 6406 rows and 9 columns\n",
      "inspections.csv has 14222 rows and 3 columns\n",
      "violations.csv has 39042 rows and 3 columns\n"
     ]
    }
   ],
   "source": [
    "# Q1: How many records (excluding column headers) and columns are there for\n",
    "# businesses.csv\n",
    "# inspections.csv\n",
    "# violations.csv\n",
    "\n",
    "print(f\"businesses.csv has {df_businesses.shape[0]} rows and {df_businesses.shape[1]} columns\")\n",
    "print(f\"inspections.csv has {df_inspections.shape[0]} rows and {df_violations.shape[1]} columns\")\n",
    "print(f\"violations.csv has {df_violations.shape[0]} rows and {df_violations.shape[1]} columns\")\n"
   ]
  },
  {
   "cell_type": "code",
   "execution_count": 5,
   "metadata": {},
   "outputs": [
    {
     "name": "stdout",
     "output_type": "stream",
     "text": [
      "businesses.csv has 0 duplicated records\n",
      "inspections.csv has 2 duplicated records\n",
      "violations.csv has 26 duplicated records\n"
     ]
    }
   ],
   "source": [
    "# Q2: How many duplicated records are there in each file. Count all duplicates\n",
    "# businesses.csv\n",
    "# inspections.csv\n",
    "# violations.csv\n",
    "\n",
    "print(f\"businesses.csv has {df_businesses.duplicated(keep=False).sum()} duplicated records\")\n",
    "print(f\"inspections.csv has {df_inspections.duplicated(keep=False).sum()} duplicated records\")\n",
    "print(f\"violations.csv has {df_violations.duplicated(keep=False).sum()} duplicated records\")"
   ]
  },
  {
   "cell_type": "code",
   "execution_count": 6,
   "metadata": {},
   "outputs": [
    {
     "name": "stdout",
     "output_type": "stream",
     "text": [
      "total rows: 6406\n",
      "name: 5758\n",
      "business_id: 6406\n"
     ]
    }
   ],
   "source": [
    "# Q3: In businesses.csv, why is business_id a reasonable identifier for each resturant while name is not?\n",
    "\n",
    "# businesses.csv has 6406 rows, and some names have duplicates while business_id is unique for every row. \n",
    "# As a result, name cannot be used as a identifier.\n",
    "\n",
    "print(f\"total rows: {df_businesses.shape[0]}\")\n",
    "print(f\"name: {len(df_businesses['name'].unique())}\")\n",
    "print(f\"business_id: {len(df_businesses['business_id'].unique())}\")"
   ]
  },
  {
   "cell_type": "code",
   "execution_count": 7,
   "metadata": {},
   "outputs": [
    {
     "name": "stdout",
     "output_type": "stream",
     "text": [
      "businesses.csv has 6406 ids\n",
      "inspections.csv has 5766 ids\n",
      "violations.csv has 5317 ids\n",
      "total unique resturant id: 6406\n"
     ]
    }
   ],
   "source": [
    "# Q4: Each business_id in this dataset corresponds to \"restaurant\" for all intents and purposes. How many resturants are in:\n",
    "# businesses.csv\n",
    "# inspections.csv\n",
    "# violations.csv\n",
    "\n",
    "businesses_id_bus = df_businesses['business_id']\n",
    "businesses_id_ins = df_inspections['business_id']\n",
    "businesses_id_vio = df_violations['business_id']\n",
    "\n",
    "print(f\"businesses.csv has {len(businesses_id_bus)} ids\")\n",
    "print(f\"inspections.csv has {len(businesses_id_ins.drop_duplicates())} ids\")\n",
    "print(f\"violations.csv has {len(businesses_id_vio.drop_duplicates())} ids\")\n",
    "\n",
    "unique_id_total = pd.concat([businesses_id_bus, businesses_id_ins, businesses_id_vio]).drop_duplicates()\n",
    "\n",
    "print(f\"total unique resturant id: {len(unique_id_total)}\")"
   ]
  },
  {
   "cell_type": "code",
   "execution_count": 8,
   "metadata": {},
   "outputs": [
    {
     "name": "stdout",
     "output_type": "stream",
     "text": [
      "name\n",
      "STARBUCKS COFFEE       73\n",
      "PEET'S COFFEE & TEA    25\n",
      "MCDONALDS              13\n",
      "LEE'S DELI             10\n",
      "JAMBA JUICE            10\n",
      "Name: count, dtype: int64\n"
     ]
    }
   ],
   "source": [
    "# Q5: What are the top 5 restaurant names with the most records in the file businesses.csv and how many records does each one have? Present your result as a table\n",
    "\n",
    "print(df_businesses['name'].value_counts().head(5))"
   ]
  },
  {
   "cell_type": "code",
   "execution_count": 9,
   "metadata": {},
   "outputs": [
    {
     "name": "stdout",
     "output_type": "stream",
     "text": [
      "address\n",
      "24 WILLIE MAYS PLAZA      124\n",
      " OFF THE GRID              79\n",
      "428 11TH ST                37\n",
      "2948 FOLSOM ST             25\n",
      "3251 20TH AVE              22\n",
      "Name: count, dtype: int64\n"
     ]
    }
   ],
   "source": [
    "# Q6: What are the top 5 addresses that host the largest number of restaurants, and how many restaurants does each one host? Present result as a table.\n",
    "print(df_businesses['address'].value_counts().head(5))"
   ]
  },
  {
   "cell_type": "code",
   "execution_count": 10,
   "metadata": {},
   "outputs": [
    {
     "name": "stdout",
     "output_type": "stream",
     "text": [
      "1 cities\n"
     ]
    }
   ],
   "source": [
    "# Q7: How many cities are included in the dataset?\n",
    "print(f\"{len(df_businesses['city'].unique())} cities\")"
   ]
  },
  {
   "cell_type": "code",
   "execution_count": 11,
   "metadata": {},
   "outputs": [
    {
     "name": "stdout",
     "output_type": "stream",
     "text": [
      "243 restaurants are in postal code 94115\n"
     ]
    }
   ],
   "source": [
    "# Q8: How many restaurants are in postal code 94115\n",
    "print(f\"{len(df_businesses[df_businesses['postal_code']=='94115'])} restaurants are in postal code 94115\")"
   ]
  },
  {
   "cell_type": "code",
   "execution_count": 12,
   "metadata": {},
   "outputs": [
    {
     "name": "stdout",
     "output_type": "stream",
     "text": [
      "3136 lacks both latitude and longtitude\n"
     ]
    }
   ],
   "source": [
    "# Q9: How many restaurants lack latitude and longtitude information?\n",
    "print(f\"{len(df_businesses[(df_businesses['latitude'].isna()) & (df_businesses['longitude'].isna())])} lacks both latitude and longtitude\")"
   ]
  },
  {
   "cell_type": "code",
   "execution_count": 13,
   "metadata": {},
   "outputs": [
    {
     "name": "stdout",
     "output_type": "stream",
     "text": [
      "3136 lacks either latitude or longtitude\n"
     ]
    }
   ],
   "source": [
    "# Q10: How many restaurants lack latitude or longtitude information?\n",
    "print(f\"{len(df_businesses[(df_businesses['latitude'].isna()) | (df_businesses['longitude'].isna())])} lacks either latitude or longtitude\")"
   ]
  },
  {
   "cell_type": "code",
   "execution_count": 14,
   "metadata": {},
   "outputs": [
    {
     "name": "stdout",
     "output_type": "stream",
     "text": [
      "no description violation: 0\n"
     ]
    }
   ],
   "source": [
    "# Q11: Do all of the records in the violoations data have a description of the violation?\n",
    "print(f\"no description violation: {len(df_violations[(df_violations['description'].isna()) | (df_violations['description'] == '')])}\")"
   ]
  },
  {
   "cell_type": "code",
   "execution_count": 15,
   "metadata": {},
   "outputs": [
    {
     "name": "stdout",
     "output_type": "stream",
     "text": [
      "intersection of business_id column in business and inspection data: 5766\n"
     ]
    }
   ],
   "source": [
    "# Q12: How many restaurants are in the business information file and have inspection data?\n",
    "print(f\"intersection of business_id column in business and inspection data: {len(df_businesses[df_businesses['business_id'].isin(df_inspections['business_id'].unique())])}\")"
   ]
  },
  {
   "cell_type": "code",
   "execution_count": 16,
   "metadata": {},
   "outputs": [
    {
     "name": "stdout",
     "output_type": "stream",
     "text": [
      "True\n",
      "unknown restaurants: 0\n"
     ]
    }
   ],
   "source": [
    "# Q13: How many restaurants have reported violations but whose names are unknown\n",
    "violation_businesses_id = set(df_violations['business_id'].unique())\n",
    "businesses_id = set(df_businesses['business_id'].unique())\n",
    "\n",
    "print(violation_businesses_id.issubset(businesses_id))\n",
    "\n",
    "print(f\"unknown restaurants: {len(df_violations[~df_violations['business_id'].isin(df_businesses['business_id'].unique())])}\")\n",
    "\n"
   ]
  },
  {
   "cell_type": "code",
   "execution_count": 17,
   "metadata": {},
   "outputs": [
    {
     "name": "stdout",
     "output_type": "stream",
     "text": [
      "violations but no inspection restaurants: 18\n"
     ]
    }
   ],
   "source": [
    "# Q14: How many restaurants have reported violations but have no inspection data?\n",
    "print(f\"violations but no inspection restaurants: {len(df_violations[~df_violations['business_id'].isin(df_inspections['business_id'].unique())])}\")\n"
   ]
  },
  {
   "cell_type": "code",
   "execution_count": 18,
   "metadata": {},
   "outputs": [
    {
     "name": "stdout",
     "output_type": "stream",
     "text": [
      "            business_id score\n",
      "                  count   max\n",
      "business_id                  \n",
      "19                    2    94\n",
      "24                    3    98\n",
      "31                    1    98\n",
      "45                    4    88\n",
      "48                    1    94\n",
      "...                 ...   ...\n",
      "94012                 2   100\n",
      "94133                 1   100\n",
      "94142                 1   100\n",
      "94189                 1    96\n",
      "94231                 1    85\n",
      "\n",
      "[5766 rows x 2 columns]\n",
      "business_id  count      8\n",
      "score        max      100\n",
      "Name: 5634, dtype: int64\n",
      "business_id  count     6\n",
      "score        max      96\n",
      "Name: 2420, dtype: int64\n"
     ]
    }
   ],
   "source": [
    "# Q15: For every restaurant with inspection data, generate a single table whre each restaurant \n",
    "# is represented by a row, and where (a) the number of times it had an inspection and (b) its highest\n",
    "# inspection score are included as columns\n",
    "inspection_table = df_inspections.groupby('business_id').agg({'business_id':['count'], 'score': ['max']})\n",
    "\n",
    "print(df_inspections.groupby('business_id').agg({'business_id':['count'], 'score': ['max']}))\n",
    "print(inspection_table.loc[5634])\n",
    "print(inspection_table.loc[2420])"
   ]
  },
  {
   "cell_type": "code",
   "execution_count": 49,
   "metadata": {},
   "outputs": [
    {
     "name": "stdout",
     "output_type": "stream",
     "text": [
      "       business_id  score      date     type rating\n",
      "10482        77427     94  20170706  routine   Good\n",
      "Unique inspection records with adequate : 2880\n",
      "Unique inspection records with Good or Poor : 8577\n"
     ]
    }
   ],
   "source": [
    "# Q 16. Create a copy of the dataframe from inspections.csv but add a column rating \n",
    "# that maps the inspection score to the rating given in legend.csv\n",
    "\n",
    "df_inspections_copy = df_inspections.copy(deep=True)\n",
    "inspections_rating = np.empty(len(df_inspections_copy),dtype=object)\n",
    "for index_inspections, score in enumerate(df_inspections_copy['score']):\n",
    "    if score >= df_legend.iloc[0]['Minimum_Score'] and score <= df_legend.iloc[0]['Maximum_Score']:\n",
    "        inspections_rating[index_inspections] = df_legend.iloc[0]['Description']\n",
    "    elif score >= df_legend.iloc[1]['Minimum_Score'] and score <= df_legend.iloc[1]['Maximum_Score']:\n",
    "        inspections_rating[index_inspections] = df_legend.iloc[1]['Description']\n",
    "    elif score >= df_legend.iloc[2]['Minimum_Score'] and score <= df_legend.iloc[2]['Maximum_Score']:\n",
    "        inspections_rating[index_inspections] = df_legend.iloc[2]['Description']\n",
    "    elif score >= df_legend.iloc[3]['Minimum_Score'] and score <= df_legend.iloc[3]['Maximum_Score']:\n",
    "        inspections_rating[index_inspections] = df_legend.iloc[3]['Description']\n",
    "\n",
    "df_inspections_copy['rating'] = inspections_rating\n",
    "\n",
    "df_inspections_copy = df_inspections_copy[~df_inspections_copy.duplicated()]\n",
    "print(f\"Unique inspection records with adequate : {len(df_inspections_copy[df_inspections_copy['rating'] == 'Adequate'])}\")\n",
    "print(f\"Unique inspection records with Good or Poor : {len(df_inspections_copy[(df_inspections_copy['rating'] == 'Good') | (df_inspections_copy['rating'] == 'Poor')])}\")"
   ]
  },
  {
   "cell_type": "code",
   "execution_count": 58,
   "metadata": {},
   "outputs": [
    {
     "name": "stdout",
     "output_type": "stream",
     "text": [
      "      business_id  Adequate  Good  Needs_Improvement  Poor\n",
      "0              19         0     2                  0     0\n",
      "1              24         0     3                  0     0\n",
      "2              31         0     1                  0     0\n",
      "4              48         0     1                  0     0\n",
      "5              54         1     1                  0     0\n",
      "...           ...       ...   ...                ...   ...\n",
      "5760        93977         0     1                  0     0\n",
      "5761        94012         1     1                  0     0\n",
      "5762        94133         0     1                  0     0\n",
      "5763        94142         0     1                  0     0\n",
      "5764        94189         0     1                  0     0\n",
      "\n",
      "[3800 rows x 5 columns]\n"
     ]
    }
   ],
   "source": [
    "# Q17. Generate a table where each row corresponds to a restaurant ID, the columns are the ratings \n",
    "# and the values are the number of inspection records corresponding to each restaurant-rating combination\n",
    "result = df_inspections_copy.groupby('business_id')['rating'].value_counts().unstack(fill_value=0).reset_index()\n",
    "\n",
    "result.columns = ['business_id', 'Adequate', 'Good', 'Needs_Improvement', 'Poor']\n",
    "result.to_csv('inspections_rating.csv', index=False)\n",
    "\n",
    "print(result[(result['Needs_Improvement'] == 0) & (result['Poor'] == 0) ])"
   ]
  }
 ],
 "metadata": {
  "kernelspec": {
   "display_name": "lab1-ds",
   "language": "python",
   "name": "python3"
  },
  "language_info": {
   "codemirror_mode": {
    "name": "ipython",
    "version": 3
   },
   "file_extension": ".py",
   "mimetype": "text/x-python",
   "name": "python",
   "nbconvert_exporter": "python",
   "pygments_lexer": "ipython3",
   "version": "3.9.18"
  }
 },
 "nbformat": 4,
 "nbformat_minor": 2
}
